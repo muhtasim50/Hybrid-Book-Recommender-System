{
  "nbformat": 4,
  "nbformat_minor": 0,
  "metadata": {
    "colab": {
      "name": "HybridBookRecommendation_v2.ipynb",
      "provenance": [],
      "collapsed_sections": []
    },
    "kernelspec": {
      "name": "python3",
      "display_name": "Python 3"
    }
  },
  "cells": [
    {
      "cell_type": "code",
      "metadata": {
        "colab": {
          "base_uri": "https://localhost:8080/"
        },
        "id": "OANztLG6nZ0K",
        "outputId": "501c73ec-6889-4a2c-c9c8-705653e1e4c6"
      },
      "source": [
        "!pip install surprise"
      ],
      "execution_count": null,
      "outputs": [
        {
          "output_type": "stream",
          "text": [
            "Collecting surprise\n",
            "  Downloading https://files.pythonhosted.org/packages/61/de/e5cba8682201fcf9c3719a6fdda95693468ed061945493dea2dd37c5618b/surprise-0.1-py2.py3-none-any.whl\n",
            "Collecting scikit-surprise\n",
            "\u001b[?25l  Downloading https://files.pythonhosted.org/packages/97/37/5d334adaf5ddd65da99fc65f6507e0e4599d092ba048f4302fe8775619e8/scikit-surprise-1.1.1.tar.gz (11.8MB)\n",
            "\u001b[K     |████████████████████████████████| 11.8MB 3.6MB/s \n",
            "\u001b[?25hRequirement already satisfied: joblib>=0.11 in /usr/local/lib/python3.7/dist-packages (from scikit-surprise->surprise) (1.0.1)\n",
            "Requirement already satisfied: numpy>=1.11.2 in /usr/local/lib/python3.7/dist-packages (from scikit-surprise->surprise) (1.19.5)\n",
            "Requirement already satisfied: scipy>=1.0.0 in /usr/local/lib/python3.7/dist-packages (from scikit-surprise->surprise) (1.4.1)\n",
            "Requirement already satisfied: six>=1.10.0 in /usr/local/lib/python3.7/dist-packages (from scikit-surprise->surprise) (1.15.0)\n",
            "Building wheels for collected packages: scikit-surprise\n",
            "  Building wheel for scikit-surprise (setup.py) ... \u001b[?25l\u001b[?25hdone\n",
            "  Created wheel for scikit-surprise: filename=scikit_surprise-1.1.1-cp37-cp37m-linux_x86_64.whl size=1617564 sha256=a4f8936a378de0145cccb27717f0fa704161228228539ac383a4e1df84b670e0\n",
            "  Stored in directory: /root/.cache/pip/wheels/78/9c/3d/41b419c9d2aff5b6e2b4c0fc8d25c538202834058f9ed110d0\n",
            "Successfully built scikit-surprise\n",
            "Installing collected packages: scikit-surprise, surprise\n",
            "Successfully installed scikit-surprise-1.1.1 surprise-0.1\n"
          ],
          "name": "stdout"
        }
      ]
    },
    {
      "cell_type": "code",
      "metadata": {
        "id": "Ox3izaBpqHAu"
      },
      "source": [
        "import os\n",
        "import sys\n",
        "import numpy as np\n",
        "import pandas as pd\n",
        "import surprise as sp\n",
        "import seaborn as sns\n",
        "import scipy\n",
        "\n",
        "from math import sqrt\n",
        "from sklearn.feature_extraction.text import TfidfVectorizer, CountVectorizer\n",
        "from sklearn.metrics.pairwise import linear_kernel, cosine_similarity\n",
        "from sklearn.decomposition import TruncatedSVD\n",
        "from surprise import KNNBasic,accuracy\n",
        "from surprise.model_selection import train_test_split\n",
        "import matplotlib.pyplot as plt\n",
        "%matplotlib inline"
      ],
      "execution_count": null,
      "outputs": []
    },
    {
      "cell_type": "code",
      "metadata": {
        "colab": {
          "base_uri": "https://localhost:8080/"
        },
        "id": "4Z23DO9iqKdG",
        "outputId": "3c7266ff-f55e-4f8e-9a35-306c6670f9b9"
      },
      "source": [
        "from google.colab import drive\n",
        "drive.mount('/content/drive', force_remount = True)"
      ],
      "execution_count": null,
      "outputs": [
        {
          "output_type": "stream",
          "text": [
            "Mounted at /content/drive\n"
          ],
          "name": "stdout"
        }
      ]
    },
    {
      "cell_type": "code",
      "metadata": {
        "colab": {
          "base_uri": "https://localhost:8080/"
        },
        "id": "Be_vj-uRqTJM",
        "outputId": "72ffc9a8-9ac2-45b4-a08a-fe12a88ad94c"
      },
      "source": [
        "!ls \"/content/drive/My Drive\""
      ],
      "execution_count": null,
      "outputs": [
        {
          "output_type": "stream",
          "text": [
            " books.csv\t       BX-Books.csv\t'Getting started.pdf'\n",
            " book_tags.csv\t       BX-CSV-Dump.zip\t ratings.csv\n",
            " BX-Book-Ratings.csv   BX-Users.csv\t tags.csv\n"
          ],
          "name": "stdout"
        }
      ]
    },
    {
      "cell_type": "code",
      "metadata": {
        "colab": {
          "base_uri": "https://localhost:8080/",
          "height": 428
        },
        "id": "T6c4kS4eqVg0",
        "outputId": "b21fece2-8206-4a73-e84a-2e4c3277fe4c"
      },
      "source": [
        "books_df = pd.read_csv('/content/drive/MyDrive/books.csv')\n",
        "ratings_df = pd.read_csv('/content/drive/MyDrive/ratings.csv')\n",
        "books_df.head()"
      ],
      "execution_count": null,
      "outputs": [
        {
          "output_type": "execute_result",
          "data": {
            "text/html": [
              "<div>\n",
              "<style scoped>\n",
              "    .dataframe tbody tr th:only-of-type {\n",
              "        vertical-align: middle;\n",
              "    }\n",
              "\n",
              "    .dataframe tbody tr th {\n",
              "        vertical-align: top;\n",
              "    }\n",
              "\n",
              "    .dataframe thead th {\n",
              "        text-align: right;\n",
              "    }\n",
              "</style>\n",
              "<table border=\"1\" class=\"dataframe\">\n",
              "  <thead>\n",
              "    <tr style=\"text-align: right;\">\n",
              "      <th></th>\n",
              "      <th>book_id</th>\n",
              "      <th>goodreads_book_id</th>\n",
              "      <th>best_book_id</th>\n",
              "      <th>work_id</th>\n",
              "      <th>books_count</th>\n",
              "      <th>isbn</th>\n",
              "      <th>isbn13</th>\n",
              "      <th>authors</th>\n",
              "      <th>original_publication_year</th>\n",
              "      <th>original_title</th>\n",
              "      <th>title</th>\n",
              "      <th>language_code</th>\n",
              "      <th>average_rating</th>\n",
              "      <th>ratings_count</th>\n",
              "      <th>work_ratings_count</th>\n",
              "      <th>work_text_reviews_count</th>\n",
              "      <th>ratings_1</th>\n",
              "      <th>ratings_2</th>\n",
              "      <th>ratings_3</th>\n",
              "      <th>ratings_4</th>\n",
              "      <th>ratings_5</th>\n",
              "      <th>image_url</th>\n",
              "      <th>small_image_url</th>\n",
              "    </tr>\n",
              "  </thead>\n",
              "  <tbody>\n",
              "    <tr>\n",
              "      <th>0</th>\n",
              "      <td>1</td>\n",
              "      <td>2767052</td>\n",
              "      <td>2767052</td>\n",
              "      <td>2792775</td>\n",
              "      <td>272</td>\n",
              "      <td>439023483</td>\n",
              "      <td>9.780439e+12</td>\n",
              "      <td>Suzanne Collins</td>\n",
              "      <td>2008.0</td>\n",
              "      <td>The Hunger Games</td>\n",
              "      <td>The Hunger Games (The Hunger Games, #1)</td>\n",
              "      <td>eng</td>\n",
              "      <td>4.34</td>\n",
              "      <td>4780653</td>\n",
              "      <td>4942365</td>\n",
              "      <td>155254</td>\n",
              "      <td>66715</td>\n",
              "      <td>127936</td>\n",
              "      <td>560092</td>\n",
              "      <td>1481305</td>\n",
              "      <td>2706317</td>\n",
              "      <td>https://images.gr-assets.com/books/1447303603m...</td>\n",
              "      <td>https://images.gr-assets.com/books/1447303603s...</td>\n",
              "    </tr>\n",
              "    <tr>\n",
              "      <th>1</th>\n",
              "      <td>2</td>\n",
              "      <td>3</td>\n",
              "      <td>3</td>\n",
              "      <td>4640799</td>\n",
              "      <td>491</td>\n",
              "      <td>439554934</td>\n",
              "      <td>9.780440e+12</td>\n",
              "      <td>J.K. Rowling, Mary GrandPré</td>\n",
              "      <td>1997.0</td>\n",
              "      <td>Harry Potter and the Philosopher's Stone</td>\n",
              "      <td>Harry Potter and the Sorcerer's Stone (Harry P...</td>\n",
              "      <td>eng</td>\n",
              "      <td>4.44</td>\n",
              "      <td>4602479</td>\n",
              "      <td>4800065</td>\n",
              "      <td>75867</td>\n",
              "      <td>75504</td>\n",
              "      <td>101676</td>\n",
              "      <td>455024</td>\n",
              "      <td>1156318</td>\n",
              "      <td>3011543</td>\n",
              "      <td>https://images.gr-assets.com/books/1474154022m...</td>\n",
              "      <td>https://images.gr-assets.com/books/1474154022s...</td>\n",
              "    </tr>\n",
              "    <tr>\n",
              "      <th>2</th>\n",
              "      <td>3</td>\n",
              "      <td>41865</td>\n",
              "      <td>41865</td>\n",
              "      <td>3212258</td>\n",
              "      <td>226</td>\n",
              "      <td>316015849</td>\n",
              "      <td>9.780316e+12</td>\n",
              "      <td>Stephenie Meyer</td>\n",
              "      <td>2005.0</td>\n",
              "      <td>Twilight</td>\n",
              "      <td>Twilight (Twilight, #1)</td>\n",
              "      <td>en-US</td>\n",
              "      <td>3.57</td>\n",
              "      <td>3866839</td>\n",
              "      <td>3916824</td>\n",
              "      <td>95009</td>\n",
              "      <td>456191</td>\n",
              "      <td>436802</td>\n",
              "      <td>793319</td>\n",
              "      <td>875073</td>\n",
              "      <td>1355439</td>\n",
              "      <td>https://images.gr-assets.com/books/1361039443m...</td>\n",
              "      <td>https://images.gr-assets.com/books/1361039443s...</td>\n",
              "    </tr>\n",
              "    <tr>\n",
              "      <th>3</th>\n",
              "      <td>4</td>\n",
              "      <td>2657</td>\n",
              "      <td>2657</td>\n",
              "      <td>3275794</td>\n",
              "      <td>487</td>\n",
              "      <td>61120081</td>\n",
              "      <td>9.780061e+12</td>\n",
              "      <td>Harper Lee</td>\n",
              "      <td>1960.0</td>\n",
              "      <td>To Kill a Mockingbird</td>\n",
              "      <td>To Kill a Mockingbird</td>\n",
              "      <td>eng</td>\n",
              "      <td>4.25</td>\n",
              "      <td>3198671</td>\n",
              "      <td>3340896</td>\n",
              "      <td>72586</td>\n",
              "      <td>60427</td>\n",
              "      <td>117415</td>\n",
              "      <td>446835</td>\n",
              "      <td>1001952</td>\n",
              "      <td>1714267</td>\n",
              "      <td>https://images.gr-assets.com/books/1361975680m...</td>\n",
              "      <td>https://images.gr-assets.com/books/1361975680s...</td>\n",
              "    </tr>\n",
              "    <tr>\n",
              "      <th>4</th>\n",
              "      <td>5</td>\n",
              "      <td>4671</td>\n",
              "      <td>4671</td>\n",
              "      <td>245494</td>\n",
              "      <td>1356</td>\n",
              "      <td>743273567</td>\n",
              "      <td>9.780743e+12</td>\n",
              "      <td>F. Scott Fitzgerald</td>\n",
              "      <td>1925.0</td>\n",
              "      <td>The Great Gatsby</td>\n",
              "      <td>The Great Gatsby</td>\n",
              "      <td>eng</td>\n",
              "      <td>3.89</td>\n",
              "      <td>2683664</td>\n",
              "      <td>2773745</td>\n",
              "      <td>51992</td>\n",
              "      <td>86236</td>\n",
              "      <td>197621</td>\n",
              "      <td>606158</td>\n",
              "      <td>936012</td>\n",
              "      <td>947718</td>\n",
              "      <td>https://images.gr-assets.com/books/1490528560m...</td>\n",
              "      <td>https://images.gr-assets.com/books/1490528560s...</td>\n",
              "    </tr>\n",
              "  </tbody>\n",
              "</table>\n",
              "</div>"
            ],
            "text/plain": [
              "   book_id  ...                                    small_image_url\n",
              "0        1  ...  https://images.gr-assets.com/books/1447303603s...\n",
              "1        2  ...  https://images.gr-assets.com/books/1474154022s...\n",
              "2        3  ...  https://images.gr-assets.com/books/1361039443s...\n",
              "3        4  ...  https://images.gr-assets.com/books/1361975680s...\n",
              "4        5  ...  https://images.gr-assets.com/books/1490528560s...\n",
              "\n",
              "[5 rows x 23 columns]"
            ]
          },
          "metadata": {
            "tags": []
          },
          "execution_count": 78
        }
      ]
    },
    {
      "cell_type": "code",
      "metadata": {
        "id": "6rWF3l93qZuE"
      },
      "source": [
        "book_tags = pd.read_csv('/content/drive/MyDrive/book_tags.csv', encoding = \"ISO-8859-1\")\n",
        "book_tags.head()\n",
        "tags = pd.read_csv('/content/drive/MyDrive/tags.csv')\n",
        "tags.tail()\n",
        "tags_join_DF = pd.merge(book_tags, tags, left_on='tag_id', right_on='tag_id', how='inner')\n",
        "tags_join_DF.head()\n",
        "books_with_tags = pd.merge(books_df, tags_join_DF, left_on='book_id', right_on='goodreads_book_id', how='inner')"
      ],
      "execution_count": null,
      "outputs": []
    },
    {
      "cell_type": "code",
      "metadata": {
        "colab": {
          "base_uri": "https://localhost:8080/",
          "height": 238
        },
        "id": "scFA-r6JqccW",
        "outputId": "533d67b7-59b6-4a51-bbb9-270b1eaeaea6"
      },
      "source": [
        "# removing all columns that we will not use\n",
        "\n",
        "ignore_columns = ['books_count', 'isbn', 'best_book_id', 'goodreads_book_id', 'work_id', 'isbn13', 'language_code', 'work_ratings_count', 'work_text_reviews_count', 'ratings_1', 'ratings_2', 'ratings_3', 'ratings_4', 'ratings_5', 'image_url', 'small_image_url']\n",
        "books_df = books_df.drop(ignore_columns, axis = 1)\n",
        "books_df.head()"
      ],
      "execution_count": null,
      "outputs": [
        {
          "output_type": "execute_result",
          "data": {
            "text/html": [
              "<div>\n",
              "<style scoped>\n",
              "    .dataframe tbody tr th:only-of-type {\n",
              "        vertical-align: middle;\n",
              "    }\n",
              "\n",
              "    .dataframe tbody tr th {\n",
              "        vertical-align: top;\n",
              "    }\n",
              "\n",
              "    .dataframe thead th {\n",
              "        text-align: right;\n",
              "    }\n",
              "</style>\n",
              "<table border=\"1\" class=\"dataframe\">\n",
              "  <thead>\n",
              "    <tr style=\"text-align: right;\">\n",
              "      <th></th>\n",
              "      <th>book_id</th>\n",
              "      <th>authors</th>\n",
              "      <th>original_publication_year</th>\n",
              "      <th>original_title</th>\n",
              "      <th>title</th>\n",
              "      <th>average_rating</th>\n",
              "      <th>ratings_count</th>\n",
              "    </tr>\n",
              "  </thead>\n",
              "  <tbody>\n",
              "    <tr>\n",
              "      <th>0</th>\n",
              "      <td>1</td>\n",
              "      <td>Suzanne Collins</td>\n",
              "      <td>2008.0</td>\n",
              "      <td>The Hunger Games</td>\n",
              "      <td>The Hunger Games (The Hunger Games, #1)</td>\n",
              "      <td>4.34</td>\n",
              "      <td>4780653</td>\n",
              "    </tr>\n",
              "    <tr>\n",
              "      <th>1</th>\n",
              "      <td>2</td>\n",
              "      <td>J.K. Rowling, Mary GrandPré</td>\n",
              "      <td>1997.0</td>\n",
              "      <td>Harry Potter and the Philosopher's Stone</td>\n",
              "      <td>Harry Potter and the Sorcerer's Stone (Harry P...</td>\n",
              "      <td>4.44</td>\n",
              "      <td>4602479</td>\n",
              "    </tr>\n",
              "    <tr>\n",
              "      <th>2</th>\n",
              "      <td>3</td>\n",
              "      <td>Stephenie Meyer</td>\n",
              "      <td>2005.0</td>\n",
              "      <td>Twilight</td>\n",
              "      <td>Twilight (Twilight, #1)</td>\n",
              "      <td>3.57</td>\n",
              "      <td>3866839</td>\n",
              "    </tr>\n",
              "    <tr>\n",
              "      <th>3</th>\n",
              "      <td>4</td>\n",
              "      <td>Harper Lee</td>\n",
              "      <td>1960.0</td>\n",
              "      <td>To Kill a Mockingbird</td>\n",
              "      <td>To Kill a Mockingbird</td>\n",
              "      <td>4.25</td>\n",
              "      <td>3198671</td>\n",
              "    </tr>\n",
              "    <tr>\n",
              "      <th>4</th>\n",
              "      <td>5</td>\n",
              "      <td>F. Scott Fitzgerald</td>\n",
              "      <td>1925.0</td>\n",
              "      <td>The Great Gatsby</td>\n",
              "      <td>The Great Gatsby</td>\n",
              "      <td>3.89</td>\n",
              "      <td>2683664</td>\n",
              "    </tr>\n",
              "  </tbody>\n",
              "</table>\n",
              "</div>"
            ],
            "text/plain": [
              "   book_id                      authors  ...  average_rating ratings_count\n",
              "0        1              Suzanne Collins  ...            4.34       4780653\n",
              "1        2  J.K. Rowling, Mary GrandPré  ...            4.44       4602479\n",
              "2        3              Stephenie Meyer  ...            3.57       3866839\n",
              "3        4                   Harper Lee  ...            4.25       3198671\n",
              "4        5          F. Scott Fitzgerald  ...            3.89       2683664\n",
              "\n",
              "[5 rows x 7 columns]"
            ]
          },
          "metadata": {
            "tags": []
          },
          "execution_count": 80
        }
      ]
    },
    {
      "cell_type": "code",
      "metadata": {
        "id": "LeiLHmCXqge9"
      },
      "source": [
        "# removing books that have less than 50 ratings, also removing books that have 0 ratings\n",
        "\n",
        "popularity_threshold = 50\n",
        "books_df = books_df.query('ratings_count >= @popularity_threshold')\n",
        "rating_threshold = 1.0\n",
        "books_df = books_df.query('average_rating >= @rating_threshold')\n",
        "ignore_columns = ['average_rating']\n",
        "books_df = books_df.drop(ignore_columns, axis = 1)"
      ],
      "execution_count": null,
      "outputs": []
    },
    {
      "cell_type": "code",
      "metadata": {
        "colab": {
          "base_uri": "https://localhost:8080/",
          "height": 204
        },
        "id": "ewrW5F_Zqj2j",
        "outputId": "830102b6-0be5-451d-f85c-949a40e4c521"
      },
      "source": [
        "combine_rating_df = pd.merge(ratings_df, books_df, on='book_id')\n",
        "ignore_columns = ['authors', 'original_publication_year', 'original_title', 'title']\n",
        "combine_rating_df = combine_rating_df.drop(ignore_columns, axis=1)\n",
        "combine_rating_df.head()"
      ],
      "execution_count": null,
      "outputs": [
        {
          "output_type": "execute_result",
          "data": {
            "text/html": [
              "<div>\n",
              "<style scoped>\n",
              "    .dataframe tbody tr th:only-of-type {\n",
              "        vertical-align: middle;\n",
              "    }\n",
              "\n",
              "    .dataframe tbody tr th {\n",
              "        vertical-align: top;\n",
              "    }\n",
              "\n",
              "    .dataframe thead th {\n",
              "        text-align: right;\n",
              "    }\n",
              "</style>\n",
              "<table border=\"1\" class=\"dataframe\">\n",
              "  <thead>\n",
              "    <tr style=\"text-align: right;\">\n",
              "      <th></th>\n",
              "      <th>user_id</th>\n",
              "      <th>book_id</th>\n",
              "      <th>rating</th>\n",
              "      <th>ratings_count</th>\n",
              "    </tr>\n",
              "  </thead>\n",
              "  <tbody>\n",
              "    <tr>\n",
              "      <th>0</th>\n",
              "      <td>1</td>\n",
              "      <td>258</td>\n",
              "      <td>5</td>\n",
              "      <td>263685</td>\n",
              "    </tr>\n",
              "    <tr>\n",
              "      <th>1</th>\n",
              "      <td>11</td>\n",
              "      <td>258</td>\n",
              "      <td>3</td>\n",
              "      <td>263685</td>\n",
              "    </tr>\n",
              "    <tr>\n",
              "      <th>2</th>\n",
              "      <td>143</td>\n",
              "      <td>258</td>\n",
              "      <td>4</td>\n",
              "      <td>263685</td>\n",
              "    </tr>\n",
              "    <tr>\n",
              "      <th>3</th>\n",
              "      <td>242</td>\n",
              "      <td>258</td>\n",
              "      <td>5</td>\n",
              "      <td>263685</td>\n",
              "    </tr>\n",
              "    <tr>\n",
              "      <th>4</th>\n",
              "      <td>325</td>\n",
              "      <td>258</td>\n",
              "      <td>4</td>\n",
              "      <td>263685</td>\n",
              "    </tr>\n",
              "  </tbody>\n",
              "</table>\n",
              "</div>"
            ],
            "text/plain": [
              "   user_id  book_id  rating  ratings_count\n",
              "0        1      258       5         263685\n",
              "1       11      258       3         263685\n",
              "2      143      258       4         263685\n",
              "3      242      258       5         263685\n",
              "4      325      258       4         263685"
            ]
          },
          "metadata": {
            "tags": []
          },
          "execution_count": 82
        }
      ]
    },
    {
      "cell_type": "code",
      "metadata": {
        "id": "c-ykWZ9wwt_7"
      },
      "source": [
        "# For Content-Based Filtering\n",
        "\n",
        "temp_df = books_with_tags.groupby('book_id')['tag_name'].apply(' '.join).reset_index()\n",
        "temp_df.head()\n",
        "tag_books_df = pd.merge(books_df, temp_df, left_on='book_id', right_on='book_id', how='inner')\n",
        "tag_books_df['corpus'] = (pd.Series(tag_books_df[['authors', 'tag_name']]\n",
        "                .fillna('')\n",
        "                .values.tolist()\n",
        "                ).str.join(' '))"
      ],
      "execution_count": null,
      "outputs": []
    },
    {
      "cell_type": "code",
      "metadata": {
        "id": "Gsmt0QuIww27"
      },
      "source": [
        "# For Content-Based Filtering\n",
        "\n",
        "def find_recommendation(book_title):\n",
        "  tf = TfidfVectorizer(analyzer='word',ngram_range=(1, 2),min_df=0, stop_words='english')\n",
        "  tfidf_matrix = tf.fit_transform(books_df['authors'])\n",
        "  cosine_sim = linear_kernel(tfidf_matrix, tfidf_matrix)\n",
        "  indices = pd.Series(books_df.index, index=books_df['title'])\n",
        "  \n",
        "  tf_corpus = TfidfVectorizer(analyzer='word',ngram_range=(1, 2),min_df=0, stop_words='english')\n",
        "  tfidf_matrix_corpus = tf_corpus.fit_transform(tag_books_df['corpus'])\n",
        "  cosine_sim_corpus = linear_kernel(tfidf_matrix_corpus, tfidf_matrix_corpus)\n",
        "\n",
        "  # Build a 1-dimensional array with book titles\n",
        "  titles = tag_books_df['title']\n",
        "  indices = pd.Series(tag_books_df.index, index=tag_books_df['title'])\n",
        "  titles1 = books_df['title']\n",
        "  indices1 = pd.Series(books_df.index, index=books_df['title'])\n",
        "\n",
        "  # Function that get book recommendations based on the cosine similarity score of books tags\n",
        "  def corpus_recommendations(title):\n",
        "      idx = indices1[title]\n",
        "      sim_scores = list(enumerate(cosine_sim_corpus[idx]))\n",
        "      sim_scores = sorted(sim_scores, key=lambda x: x[1], reverse=True)\n",
        "      sim_scores = sim_scores[1:21]\n",
        "      book_indices = [i[0] for i in sim_scores]\n",
        "      return titles.iloc[book_indices]\n",
        "\n",
        "  ret = corpus_recommendations(book_title)\n",
        "  return ret"
      ],
      "execution_count": null,
      "outputs": []
    },
    {
      "cell_type": "code",
      "metadata": {
        "id": "qY0i8H6HxFsT"
      },
      "source": [
        "def collaborative_filtering(books_input, subsetGroup):\n",
        "  pearsonCorrelationDict = {}\n",
        "  subsetGroup = subsetGroup[0: 1000]\n",
        "\n",
        "  #For every user group in our subset\n",
        "  for name, group in subsetGroup:\n",
        "    #Let's start by sorting the input and current user group so the values aren't mixed up later on\n",
        "    group = group.sort_values(by='book_id')\n",
        "    books_input = books_input.sort_values(by='book_id')\n",
        "    #Get the N for the formula\n",
        "    nRatings = len(group)\n",
        "    #Get the review scores for the movies that they both have in common\n",
        "    temp_df = books_input[books_input['book_id'].isin(group['book_id'].tolist())]\n",
        "    #And then store them in a temporary buffer variable in a list format to facilitate future calculations\n",
        "    tempRatingList = temp_df['rating'].tolist()\n",
        "    #Let's also put the current user group reviews in a list format\n",
        "    tempGroupList = group['rating'].tolist()\n",
        "    #Now let's calculate the pearson correlation between two users, so called, x and y\n",
        "    Sxx = sum([i**2 for i in tempRatingList]) - pow(sum(tempRatingList),2)/float(nRatings)\n",
        "    Syy = sum([i**2 for i in tempGroupList]) - pow(sum(tempGroupList),2)/float(nRatings)\n",
        "    Sxy = sum( i*j for i, j in zip(tempRatingList, tempGroupList)) - sum(tempRatingList)*sum(tempGroupList)/float(nRatings)\n",
        "    \n",
        "    #If the denominator is different than zero, then divide, else, 0 correlation.\n",
        "    if Sxx != 0 and Syy != 0:\n",
        "      pearsonCorrelationDict[name] = Sxy/sqrt(Sxx*Syy)\n",
        "    else:\n",
        "      pearsonCorrelationDict[name] = 0\n",
        "\n",
        "    pearsonDF = pd.DataFrame.from_dict(pearsonCorrelationDict, orient='index')\n",
        "    pearsonDF.columns = ['similarityIndex']\n",
        "    pearsonDF['user_id'] = pearsonDF.index\n",
        "    pearsonDF.index = range(len(pearsonDF))\n",
        "    topUsers=pearsonDF.sort_values(by='similarityIndex', ascending=False)[0:50]\n",
        "    topUsersRating=topUsers.merge(ratings_df, left_on='user_id', right_on='user_id', how='inner')\n",
        "    topUsersRating['weightedRating'] = topUsersRating['similarityIndex']*topUsersRating['rating']\n",
        "    tempTopUsersRating = topUsersRating.groupby('book_id').sum()[['similarityIndex','weightedRating']]\n",
        "    tempTopUsersRating.columns = ['sum_similarityIndex','sum_weightedRating']\n",
        "    #Creates an empty dataframe\n",
        "    recommendation_df = pd.DataFrame()\n",
        "    #Now we take the weighted average\n",
        "    recommendation_df['weighted average recommendation score'] = tempTopUsersRating['sum_weightedRating']/tempTopUsersRating['sum_similarityIndex']\n",
        "    recommendation_df['book_id'] = tempTopUsersRating.index\n",
        "    recommendation_df = recommendation_df.sort_values(by='weighted average recommendation score', ascending=False)\n",
        "    return recommendation_df\n",
        "    \n"
      ],
      "execution_count": null,
      "outputs": []
    },
    {
      "cell_type": "code",
      "metadata": {
        "id": "o3zRGiFuxa2b"
      },
      "source": [
        "def do_collaborative_filtering(books_input, subsetGroup):\n",
        "  recommendation_df = collaborative_filtering(books_input, subsetGroup)\n",
        "  temp_df = books_df.loc[books_df['book_id'].isin(recommendation_df.head(15)['book_id'].tolist())]\n",
        "  temp_df[[\"title\", \"authors\", \"original_publication_year\"]].rename(columns={'title': 'Title', 'authors': 'Authors','original_publication_year': \"Publication\"})\n",
        "  \n",
        "  return temp_df.head(15)"
      ],
      "execution_count": null,
      "outputs": []
    },
    {
      "cell_type": "code",
      "metadata": {
        "id": "TiAy55zHxtAF"
      },
      "source": [
        "def do_content_based_filtering(books_input, userInput):\n",
        "  for i in range(0, len(userInput)):\n",
        "    title = inputBooks2['original_title'][i]\n",
        "    recommendation_df = pd.DataFrame()\n",
        "    recommendation_df = find_recommendation(title)\n",
        "    recommendation_df.columns = ['book_id', 'title']\n",
        "    print(\"Book Recommendations for '{}': \\n\".format(title))\n",
        "    print(recommendation_df.head(5))"
      ],
      "execution_count": null,
      "outputs": []
    },
    {
      "cell_type": "code",
      "metadata": {
        "id": "4nLGnT5_yAeJ"
      },
      "source": [
        "def hybrid_recommendation_system(book_input, userInput, userSub, userSubGroup):\n",
        "  similar_users = len(userSub)\n",
        "  if similar_users > 4000:\n",
        "    recommendation_df = do_collaborative_filtering(book_input, userSubsetGroup)\n",
        "    return recommendation_df[[\"title\", \"authors\", \"original_publication_year\"]].rename(columns={'title': 'Title', 'authors': 'Authors','original_publication_year': \"Publication\"})\n",
        "  else:\n",
        "    do_content_based_filtering(book_input, userInput)"
      ],
      "execution_count": null,
      "outputs": []
    },
    {
      "cell_type": "code",
      "metadata": {
        "colab": {
          "base_uri": "https://localhost:8080/",
          "height": 235
        },
        "id": "rpjJ_x4sqtVk",
        "outputId": "97015817-997a-4a50-8ce0-3fde532c6a67"
      },
      "source": [
        "userInput1 = [\n",
        "            {'original_title':'The Hound of the Baskervilles', 'rating': 5},\n",
        "            {'original_title': 'A Study in Scarlet', 'rating': 4},\n",
        "            {'original_title':'The Da Vinci Code', 'rating': 4},\n",
        "            {'original_title':'The Murder of Roger Ackroyd', 'rating': 5},\n",
        "            {'original_title':\"The Day of the Jackal\", 'rating': 4},\n",
        "            {'original_title':'Hell House', 'rating': 3}\n",
        "         ] \n",
        "inputBooks1 = pd.DataFrame(userInput1)\n",
        "inputBooks1"
      ],
      "execution_count": null,
      "outputs": [
        {
          "output_type": "execute_result",
          "data": {
            "text/html": [
              "<div>\n",
              "<style scoped>\n",
              "    .dataframe tbody tr th:only-of-type {\n",
              "        vertical-align: middle;\n",
              "    }\n",
              "\n",
              "    .dataframe tbody tr th {\n",
              "        vertical-align: top;\n",
              "    }\n",
              "\n",
              "    .dataframe thead th {\n",
              "        text-align: right;\n",
              "    }\n",
              "</style>\n",
              "<table border=\"1\" class=\"dataframe\">\n",
              "  <thead>\n",
              "    <tr style=\"text-align: right;\">\n",
              "      <th></th>\n",
              "      <th>original_title</th>\n",
              "      <th>rating</th>\n",
              "    </tr>\n",
              "  </thead>\n",
              "  <tbody>\n",
              "    <tr>\n",
              "      <th>0</th>\n",
              "      <td>The Hound of the Baskervilles</td>\n",
              "      <td>5</td>\n",
              "    </tr>\n",
              "    <tr>\n",
              "      <th>1</th>\n",
              "      <td>A Study in Scarlet</td>\n",
              "      <td>4</td>\n",
              "    </tr>\n",
              "    <tr>\n",
              "      <th>2</th>\n",
              "      <td>The Da Vinci Code</td>\n",
              "      <td>4</td>\n",
              "    </tr>\n",
              "    <tr>\n",
              "      <th>3</th>\n",
              "      <td>The Murder of Roger Ackroyd</td>\n",
              "      <td>5</td>\n",
              "    </tr>\n",
              "    <tr>\n",
              "      <th>4</th>\n",
              "      <td>The Day of the Jackal</td>\n",
              "      <td>4</td>\n",
              "    </tr>\n",
              "    <tr>\n",
              "      <th>5</th>\n",
              "      <td>Hell House</td>\n",
              "      <td>3</td>\n",
              "    </tr>\n",
              "  </tbody>\n",
              "</table>\n",
              "</div>"
            ],
            "text/plain": [
              "                  original_title  rating\n",
              "0  The Hound of the Baskervilles       5\n",
              "1             A Study in Scarlet       4\n",
              "2              The Da Vinci Code       4\n",
              "3    The Murder of Roger Ackroyd       5\n",
              "4          The Day of the Jackal       4\n",
              "5                     Hell House       3"
            ]
          },
          "metadata": {
            "tags": []
          },
          "execution_count": 89
        }
      ]
    },
    {
      "cell_type": "code",
      "metadata": {
        "colab": {
          "base_uri": "https://localhost:8080/",
          "height": 235
        },
        "id": "7sDl0_fDv4y6",
        "outputId": "00029d1d-c93d-49a1-de9f-8cf4e7736dbd"
      },
      "source": [
        "inputId1 = books_df[books_df['original_title'].isin(inputBooks1['original_title'].tolist())]\n",
        "inputBooks1 = pd.merge(inputId, inputBooks1)\n",
        "ignore_columns = ['authors', 'original_publication_year', 'original_title', 'title']\n",
        "inputBooks1 = inputBooks1.drop(ignore_columns, axis = 1)\n",
        "inputBooks1"
      ],
      "execution_count": null,
      "outputs": [
        {
          "output_type": "execute_result",
          "data": {
            "text/html": [
              "<div>\n",
              "<style scoped>\n",
              "    .dataframe tbody tr th:only-of-type {\n",
              "        vertical-align: middle;\n",
              "    }\n",
              "\n",
              "    .dataframe tbody tr th {\n",
              "        vertical-align: top;\n",
              "    }\n",
              "\n",
              "    .dataframe thead th {\n",
              "        text-align: right;\n",
              "    }\n",
              "</style>\n",
              "<table border=\"1\" class=\"dataframe\">\n",
              "  <thead>\n",
              "    <tr style=\"text-align: right;\">\n",
              "      <th></th>\n",
              "      <th>book_id</th>\n",
              "      <th>ratings_count</th>\n",
              "      <th>rating</th>\n",
              "    </tr>\n",
              "  </thead>\n",
              "  <tbody>\n",
              "    <tr>\n",
              "      <th>0</th>\n",
              "      <td>26</td>\n",
              "      <td>1447148</td>\n",
              "      <td>4</td>\n",
              "    </tr>\n",
              "    <tr>\n",
              "      <th>1</th>\n",
              "      <td>446</td>\n",
              "      <td>201499</td>\n",
              "      <td>4</td>\n",
              "    </tr>\n",
              "    <tr>\n",
              "      <th>2</th>\n",
              "      <td>618</td>\n",
              "      <td>154517</td>\n",
              "      <td>5</td>\n",
              "    </tr>\n",
              "    <tr>\n",
              "      <th>3</th>\n",
              "      <td>989</td>\n",
              "      <td>85883</td>\n",
              "      <td>4</td>\n",
              "    </tr>\n",
              "    <tr>\n",
              "      <th>4</th>\n",
              "      <td>1410</td>\n",
              "      <td>71354</td>\n",
              "      <td>5</td>\n",
              "    </tr>\n",
              "    <tr>\n",
              "      <th>5</th>\n",
              "      <td>4613</td>\n",
              "      <td>22644</td>\n",
              "      <td>3</td>\n",
              "    </tr>\n",
              "  </tbody>\n",
              "</table>\n",
              "</div>"
            ],
            "text/plain": [
              "   book_id  ratings_count  rating\n",
              "0       26        1447148       4\n",
              "1      446         201499       4\n",
              "2      618         154517       5\n",
              "3      989          85883       4\n",
              "4     1410          71354       5\n",
              "5     4613          22644       3"
            ]
          },
          "metadata": {
            "tags": []
          },
          "execution_count": 90
        }
      ]
    },
    {
      "cell_type": "code",
      "metadata": {
        "colab": {
          "base_uri": "https://localhost:8080/",
          "height": 204
        },
        "id": "jWk8cAlowJQw",
        "outputId": "41215ca9-67c8-47d2-f84d-3fc175a8233c"
      },
      "source": [
        "userSubset = ratings_df[ratings_df['book_id'].isin(inputBooks1['book_id'].tolist())]\n",
        "rating_threshold = 1.0\n",
        "userSubset = userSubset.query('rating >= @rating_threshold')\n",
        "userSubset.head()"
      ],
      "execution_count": null,
      "outputs": [
        {
          "output_type": "execute_result",
          "data": {
            "text/html": [
              "<div>\n",
              "<style scoped>\n",
              "    .dataframe tbody tr th:only-of-type {\n",
              "        vertical-align: middle;\n",
              "    }\n",
              "\n",
              "    .dataframe tbody tr th {\n",
              "        vertical-align: top;\n",
              "    }\n",
              "\n",
              "    .dataframe thead th {\n",
              "        text-align: right;\n",
              "    }\n",
              "</style>\n",
              "<table border=\"1\" class=\"dataframe\">\n",
              "  <thead>\n",
              "    <tr style=\"text-align: right;\">\n",
              "      <th></th>\n",
              "      <th>user_id</th>\n",
              "      <th>book_id</th>\n",
              "      <th>rating</th>\n",
              "    </tr>\n",
              "  </thead>\n",
              "  <tbody>\n",
              "    <tr>\n",
              "      <th>5</th>\n",
              "      <td>2</td>\n",
              "      <td>26</td>\n",
              "      <td>4</td>\n",
              "    </tr>\n",
              "    <tr>\n",
              "      <th>27</th>\n",
              "      <td>4</td>\n",
              "      <td>26</td>\n",
              "      <td>3</td>\n",
              "    </tr>\n",
              "    <tr>\n",
              "      <th>119</th>\n",
              "      <td>9</td>\n",
              "      <td>26</td>\n",
              "      <td>2</td>\n",
              "    </tr>\n",
              "    <tr>\n",
              "      <th>171</th>\n",
              "      <td>11</td>\n",
              "      <td>26</td>\n",
              "      <td>3</td>\n",
              "    </tr>\n",
              "    <tr>\n",
              "      <th>197</th>\n",
              "      <td>15</td>\n",
              "      <td>26</td>\n",
              "      <td>3</td>\n",
              "    </tr>\n",
              "  </tbody>\n",
              "</table>\n",
              "</div>"
            ],
            "text/plain": [
              "     user_id  book_id  rating\n",
              "5          2       26       4\n",
              "27         4       26       3\n",
              "119        9       26       2\n",
              "171       11       26       3\n",
              "197       15       26       3"
            ]
          },
          "metadata": {
            "tags": []
          },
          "execution_count": 91
        }
      ]
    },
    {
      "cell_type": "code",
      "metadata": {
        "colab": {
          "base_uri": "https://localhost:8080/"
        },
        "id": "U20BwNGRwSFE",
        "outputId": "74c56310-61e1-41f6-e0e4-765515fe9564"
      },
      "source": [
        "userSubsetGroup = userSubset.groupby(['user_id'])\n",
        "userSubsetGroup = sorted(userSubsetGroup,  key=lambda x: len(x[1]), reverse=True)\n",
        "userSubsetGroup[0:3]"
      ],
      "execution_count": null,
      "outputs": [
        {
          "output_type": "execute_result",
          "data": {
            "text/plain": [
              "[(14623,          user_id  book_id  rating\n",
              "  919755     14623      989       5\n",
              "  920210     14623       26       4\n",
              "  1157209    14623      618       3\n",
              "  1157816    14623     1410       5\n",
              "  1167503    14623      446       4), (34584,          user_id  book_id  rating\n",
              "  3013135    34584       26       4\n",
              "  3022788    34584      989       3\n",
              "  3023088    34584     1410       3\n",
              "  3023095    34584      446       3\n",
              "  3023097    34584      618       4), (35451,          user_id  book_id  rating\n",
              "  2785573    35451      446       3\n",
              "  3147839    35451     1410       3\n",
              "  3147856    35451      618       3\n",
              "  3147877    35451      989       4\n",
              "  3147882    35451       26       3)]"
            ]
          },
          "metadata": {
            "tags": []
          },
          "execution_count": 92
        }
      ]
    },
    {
      "cell_type": "code",
      "metadata": {
        "colab": {
          "base_uri": "https://localhost:8080/"
        },
        "id": "49Oi18EtwUvz",
        "outputId": "dfe4c4b7-9bbd-46d2-fa1a-c83f3a4e7275"
      },
      "source": [
        "len(userSubset)"
      ],
      "execution_count": null,
      "outputs": [
        {
          "output_type": "execute_result",
          "data": {
            "text/plain": [
              "19501"
            ]
          },
          "metadata": {
            "tags": []
          },
          "execution_count": 93
        }
      ]
    },
    {
      "cell_type": "code",
      "metadata": {
        "colab": {
          "base_uri": "https://localhost:8080/",
          "height": 514
        },
        "id": "vTT-A_wKzKH-",
        "outputId": "58c5bbc0-3dd6-4dd3-abe1-fc20e5f8c666"
      },
      "source": [
        "hybrid_recommendation_system(inputBooks1, userInput1, userSubset, userSubsetGroup)"
      ],
      "execution_count": null,
      "outputs": [
        {
          "output_type": "execute_result",
          "data": {
            "text/html": [
              "<div>\n",
              "<style scoped>\n",
              "    .dataframe tbody tr th:only-of-type {\n",
              "        vertical-align: middle;\n",
              "    }\n",
              "\n",
              "    .dataframe tbody tr th {\n",
              "        vertical-align: top;\n",
              "    }\n",
              "\n",
              "    .dataframe thead th {\n",
              "        text-align: right;\n",
              "    }\n",
              "</style>\n",
              "<table border=\"1\" class=\"dataframe\">\n",
              "  <thead>\n",
              "    <tr style=\"text-align: right;\">\n",
              "      <th></th>\n",
              "      <th>Title</th>\n",
              "      <th>Authors</th>\n",
              "      <th>Publication</th>\n",
              "    </tr>\n",
              "  </thead>\n",
              "  <tbody>\n",
              "    <tr>\n",
              "      <th>1</th>\n",
              "      <td>Harry Potter and the Sorcerer's Stone (Harry P...</td>\n",
              "      <td>J.K. Rowling, Mary GrandPré</td>\n",
              "      <td>1997.0</td>\n",
              "    </tr>\n",
              "    <tr>\n",
              "      <th>3</th>\n",
              "      <td>To Kill a Mockingbird</td>\n",
              "      <td>Harper Lee</td>\n",
              "      <td>1960.0</td>\n",
              "    </tr>\n",
              "    <tr>\n",
              "      <th>26</th>\n",
              "      <td>Harry Potter and the Half-Blood Prince (Harry ...</td>\n",
              "      <td>J.K. Rowling, Mary GrandPré</td>\n",
              "      <td>2005.0</td>\n",
              "    </tr>\n",
              "    <tr>\n",
              "      <th>254</th>\n",
              "      <td>Atlas Shrugged</td>\n",
              "      <td>Ayn Rand, Leonard Peikoff</td>\n",
              "      <td>1957.0</td>\n",
              "    </tr>\n",
              "    <tr>\n",
              "      <th>273</th>\n",
              "      <td>The Godfather</td>\n",
              "      <td>Mario Puzo, Robert Thompson, Peter Bart</td>\n",
              "      <td>1969.0</td>\n",
              "    </tr>\n",
              "    <tr>\n",
              "      <th>286</th>\n",
              "      <td>The Fountainhead</td>\n",
              "      <td>Ayn Rand, Leonard Peikoff</td>\n",
              "      <td>1943.0</td>\n",
              "    </tr>\n",
              "    <tr>\n",
              "      <th>513</th>\n",
              "      <td>The Adventures of Sherlock Holmes</td>\n",
              "      <td>Arthur Conan Doyle</td>\n",
              "      <td>1892.0</td>\n",
              "    </tr>\n",
              "    <tr>\n",
              "      <th>988</th>\n",
              "      <td>The Day of the Jackal</td>\n",
              "      <td>Frederick Forsyth</td>\n",
              "      <td>1971.0</td>\n",
              "    </tr>\n",
              "    <tr>\n",
              "      <th>1409</th>\n",
              "      <td>The Murder of Roger Ackroyd (Hercule Poirot, #4)</td>\n",
              "      <td>Agatha Christie</td>\n",
              "      <td>1926.0</td>\n",
              "    </tr>\n",
              "    <tr>\n",
              "      <th>2407</th>\n",
              "      <td>Love Story (Love Story, #1)</td>\n",
              "      <td>Erich Segal</td>\n",
              "      <td>1970.0</td>\n",
              "    </tr>\n",
              "    <tr>\n",
              "      <th>5504</th>\n",
              "      <td>Five Little Pigs (Hercule Poirot, #24)</td>\n",
              "      <td>Agatha Christie</td>\n",
              "      <td>1942.0</td>\n",
              "    </tr>\n",
              "    <tr>\n",
              "      <th>6358</th>\n",
              "      <td>Five on a Treasure Island (Famous Five, #1)</td>\n",
              "      <td>Enid Blyton</td>\n",
              "      <td>1942.0</td>\n",
              "    </tr>\n",
              "    <tr>\n",
              "      <th>9401</th>\n",
              "      <td>Five Go to Smuggler's Top (Famous Five, #4)</td>\n",
              "      <td>Enid Blyton</td>\n",
              "      <td>1942.0</td>\n",
              "    </tr>\n",
              "    <tr>\n",
              "      <th>9403</th>\n",
              "      <td>Five Run Away Together (Famous Five, #3)</td>\n",
              "      <td>Enid Blyton</td>\n",
              "      <td>1944.0</td>\n",
              "    </tr>\n",
              "    <tr>\n",
              "      <th>9685</th>\n",
              "      <td>Five Go Adventuring Again (Famous Five, #2)</td>\n",
              "      <td>Enid Blyton</td>\n",
              "      <td>1943.0</td>\n",
              "    </tr>\n",
              "  </tbody>\n",
              "</table>\n",
              "</div>"
            ],
            "text/plain": [
              "                                                  Title  ... Publication\n",
              "1     Harry Potter and the Sorcerer's Stone (Harry P...  ...      1997.0\n",
              "3                                 To Kill a Mockingbird  ...      1960.0\n",
              "26    Harry Potter and the Half-Blood Prince (Harry ...  ...      2005.0\n",
              "254                                      Atlas Shrugged  ...      1957.0\n",
              "273                                       The Godfather  ...      1969.0\n",
              "286                                    The Fountainhead  ...      1943.0\n",
              "513                   The Adventures of Sherlock Holmes  ...      1892.0\n",
              "988                               The Day of the Jackal  ...      1971.0\n",
              "1409   The Murder of Roger Ackroyd (Hercule Poirot, #4)  ...      1926.0\n",
              "2407                        Love Story (Love Story, #1)  ...      1970.0\n",
              "5504             Five Little Pigs (Hercule Poirot, #24)  ...      1942.0\n",
              "6358        Five on a Treasure Island (Famous Five, #1)  ...      1942.0\n",
              "9401        Five Go to Smuggler's Top (Famous Five, #4)  ...      1942.0\n",
              "9403           Five Run Away Together (Famous Five, #3)  ...      1944.0\n",
              "9685        Five Go Adventuring Again (Famous Five, #2)  ...      1943.0\n",
              "\n",
              "[15 rows x 3 columns]"
            ]
          },
          "metadata": {
            "tags": []
          },
          "execution_count": 112
        }
      ]
    },
    {
      "cell_type": "code",
      "metadata": {
        "colab": {
          "base_uri": "https://localhost:8080/",
          "height": 80
        },
        "id": "StQWXe2V1LIw",
        "outputId": "0748b9d8-b022-4ed7-c861-16e53a1fd75c"
      },
      "source": [
        "userInput2 = [\n",
        "            {'original_title': 'The Graveyard Book', 'rating': 5}, \n",
        "         ] \n",
        "inputBooks2 = pd.DataFrame(userInput2)\n",
        "inputBooks2"
      ],
      "execution_count": null,
      "outputs": [
        {
          "output_type": "execute_result",
          "data": {
            "text/html": [
              "<div>\n",
              "<style scoped>\n",
              "    .dataframe tbody tr th:only-of-type {\n",
              "        vertical-align: middle;\n",
              "    }\n",
              "\n",
              "    .dataframe tbody tr th {\n",
              "        vertical-align: top;\n",
              "    }\n",
              "\n",
              "    .dataframe thead th {\n",
              "        text-align: right;\n",
              "    }\n",
              "</style>\n",
              "<table border=\"1\" class=\"dataframe\">\n",
              "  <thead>\n",
              "    <tr style=\"text-align: right;\">\n",
              "      <th></th>\n",
              "      <th>original_title</th>\n",
              "      <th>rating</th>\n",
              "    </tr>\n",
              "  </thead>\n",
              "  <tbody>\n",
              "    <tr>\n",
              "      <th>0</th>\n",
              "      <td>The Graveyard Book</td>\n",
              "      <td>5</td>\n",
              "    </tr>\n",
              "  </tbody>\n",
              "</table>\n",
              "</div>"
            ],
            "text/plain": [
              "       original_title  rating\n",
              "0  The Graveyard Book       5"
            ]
          },
          "metadata": {
            "tags": []
          },
          "execution_count": 96
        }
      ]
    },
    {
      "cell_type": "code",
      "metadata": {
        "colab": {
          "base_uri": "https://localhost:8080/",
          "height": 80
        },
        "id": "5S6Uk9ck1N27",
        "outputId": "0cd5da74-02e2-4be4-e833-3877127919bc"
      },
      "source": [
        "inputId2 = books_df[books_df['original_title'].isin(inputBooks2['original_title'].tolist())]\n",
        "inputBooks2 = pd.merge(inputId2, inputBooks2)\n",
        "ignore_columns = ['authors', 'original_publication_year', 'original_title', 'title']\n",
        "inputBooks2_tmp = inputBooks2.drop(ignore_columns, axis = 1)\n",
        "inputBooks2_tmp"
      ],
      "execution_count": null,
      "outputs": [
        {
          "output_type": "execute_result",
          "data": {
            "text/html": [
              "<div>\n",
              "<style scoped>\n",
              "    .dataframe tbody tr th:only-of-type {\n",
              "        vertical-align: middle;\n",
              "    }\n",
              "\n",
              "    .dataframe tbody tr th {\n",
              "        vertical-align: top;\n",
              "    }\n",
              "\n",
              "    .dataframe thead th {\n",
              "        text-align: right;\n",
              "    }\n",
              "</style>\n",
              "<table border=\"1\" class=\"dataframe\">\n",
              "  <thead>\n",
              "    <tr style=\"text-align: right;\">\n",
              "      <th></th>\n",
              "      <th>book_id</th>\n",
              "      <th>ratings_count</th>\n",
              "      <th>rating</th>\n",
              "    </tr>\n",
              "  </thead>\n",
              "  <tbody>\n",
              "    <tr>\n",
              "      <th>0</th>\n",
              "      <td>312</td>\n",
              "      <td>302303</td>\n",
              "      <td>5</td>\n",
              "    </tr>\n",
              "  </tbody>\n",
              "</table>\n",
              "</div>"
            ],
            "text/plain": [
              "   book_id  ratings_count  rating\n",
              "0      312         302303       5"
            ]
          },
          "metadata": {
            "tags": []
          },
          "execution_count": 97
        }
      ]
    },
    {
      "cell_type": "code",
      "metadata": {
        "colab": {
          "base_uri": "https://localhost:8080/",
          "height": 204
        },
        "id": "GOiEZbfw1QGT",
        "outputId": "2dee23db-d6e0-445d-fb0a-4e263e45de6d"
      },
      "source": [
        "userSubset2 = ratings_df[ratings_df['book_id'].isin(inputBooks2_tmp['book_id'].tolist())]\n",
        "rating_threshold = 1.0\n",
        "userSubset2 = userSubset2.query('rating >= @rating_threshold')\n",
        "userSubset2.head()"
      ],
      "execution_count": null,
      "outputs": [
        {
          "output_type": "execute_result",
          "data": {
            "text/html": [
              "<div>\n",
              "<style scoped>\n",
              "    .dataframe tbody tr th:only-of-type {\n",
              "        vertical-align: middle;\n",
              "    }\n",
              "\n",
              "    .dataframe tbody tr th {\n",
              "        vertical-align: top;\n",
              "    }\n",
              "\n",
              "    .dataframe thead th {\n",
              "        text-align: right;\n",
              "    }\n",
              "</style>\n",
              "<table border=\"1\" class=\"dataframe\">\n",
              "  <thead>\n",
              "    <tr style=\"text-align: right;\">\n",
              "      <th></th>\n",
              "      <th>user_id</th>\n",
              "      <th>book_id</th>\n",
              "      <th>rating</th>\n",
              "    </tr>\n",
              "  </thead>\n",
              "  <tbody>\n",
              "    <tr>\n",
              "      <th>236311</th>\n",
              "      <td>5858</td>\n",
              "      <td>312</td>\n",
              "      <td>5</td>\n",
              "    </tr>\n",
              "    <tr>\n",
              "      <th>290697</th>\n",
              "      <td>5862</td>\n",
              "      <td>312</td>\n",
              "      <td>5</td>\n",
              "    </tr>\n",
              "    <tr>\n",
              "      <th>297434</th>\n",
              "      <td>5966</td>\n",
              "      <td>312</td>\n",
              "      <td>4</td>\n",
              "    </tr>\n",
              "    <tr>\n",
              "      <th>298344</th>\n",
              "      <td>3980</td>\n",
              "      <td>312</td>\n",
              "      <td>5</td>\n",
              "    </tr>\n",
              "    <tr>\n",
              "      <th>301687</th>\n",
              "      <td>3936</td>\n",
              "      <td>312</td>\n",
              "      <td>4</td>\n",
              "    </tr>\n",
              "  </tbody>\n",
              "</table>\n",
              "</div>"
            ],
            "text/plain": [
              "        user_id  book_id  rating\n",
              "236311     5858      312       5\n",
              "290697     5862      312       5\n",
              "297434     5966      312       4\n",
              "298344     3980      312       5\n",
              "301687     3936      312       4"
            ]
          },
          "metadata": {
            "tags": []
          },
          "execution_count": 98
        }
      ]
    },
    {
      "cell_type": "code",
      "metadata": {
        "colab": {
          "base_uri": "https://localhost:8080/"
        },
        "id": "6oVpIA411lrk",
        "outputId": "64a9925f-9ff5-4129-f52c-9e9b7a765d00"
      },
      "source": [
        "userSubsetGroup2 = userSubset2.groupby(['user_id'])\n",
        "userSubsetGroup2 = sorted(userSubsetGroup2,  key=lambda x: len(x[1]), reverse=True)\n",
        "userSubsetGroup2[0:3]"
      ],
      "execution_count": null,
      "outputs": [
        {
          "output_type": "execute_result",
          "data": {
            "text/plain": [
              "[(31,         user_id  book_id  rating\n",
              "  588924       31      312       4), (36,         user_id  book_id  rating\n",
              "  523411       36      312       5), (50,         user_id  book_id  rating\n",
              "  355757       50      312       5)]"
            ]
          },
          "metadata": {
            "tags": []
          },
          "execution_count": 99
        }
      ]
    },
    {
      "cell_type": "code",
      "metadata": {
        "colab": {
          "base_uri": "https://localhost:8080/"
        },
        "id": "fTHfNzMG1UKz",
        "outputId": "aebe8d23-03f8-4fe9-9c06-f00484c56992"
      },
      "source": [
        "len(userSubset2)"
      ],
      "execution_count": null,
      "outputs": [
        {
          "output_type": "execute_result",
          "data": {
            "text/plain": [
              "3401"
            ]
          },
          "metadata": {
            "tags": []
          },
          "execution_count": 100
        }
      ]
    },
    {
      "cell_type": "code",
      "metadata": {
        "colab": {
          "base_uri": "https://localhost:8080/"
        },
        "id": "HflA96GY1Xt9",
        "outputId": "2a373f67-d0cf-4ef0-f846-45dbed712ea2"
      },
      "source": [
        "hybrid_recommendation_system(inputBooks2, userInput2, userSubset2, userSubsetGroup2)"
      ],
      "execution_count": null,
      "outputs": [
        {
          "output_type": "stream",
          "text": [
            "Book Recommendations for 'The Graveyard Book': \n",
            "\n",
            "713    Two Ravens and One Crow (The Iron Druid Chroni...\n",
            "292                                   North of Beautiful\n",
            "107                               Between Shades of Gray\n",
            "293                                               Willow\n",
            "400                                   The Sheltering Sky\n",
            "Name: title, dtype: object\n"
          ],
          "name": "stdout"
        }
      ]
    }
  ]
}